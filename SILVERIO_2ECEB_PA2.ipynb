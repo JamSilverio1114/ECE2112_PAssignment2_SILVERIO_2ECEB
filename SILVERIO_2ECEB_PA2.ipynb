{
 "cells": [
  {
   "cell_type": "markdown",
   "id": "00b47729-2f36-4895-af6f-e21cd29d7198",
   "metadata": {},
   "source": [
    "PROGRAMMING ASSIGNMENT 2"
   ]
  },
  {
   "cell_type": "markdown",
   "id": "51c311ba-338f-41f5-8eac-ff247efb1690",
   "metadata": {},
   "source": [
    "SILVERIO, Jamille Anne | 2ECE-B"
   ]
  },
  {
   "cell_type": "markdown",
   "id": "267e3b2c-577d-4221-b45b-3cfc738451ce",
   "metadata": {},
   "source": [
    "1. NORMALIZATION PROBLEM"
   ]
  },
  {
   "cell_type": "code",
   "execution_count": 2,
   "id": "3f6469b0-88bd-473b-aa1d-bc311bd0878b",
   "metadata": {},
   "outputs": [],
   "source": [
    "import numpy as np\n",
    "\n",
    "X = np.random.random((5,5))\n",
    "X_normalized = ((X - X.mean()) / (X.std()))\n",
    "\n",
    "np.save(\"X_normalized.npy\", X_normalized)"
   ]
  },
  {
   "cell_type": "markdown",
   "id": "56ee04d0-89b6-4f9e-98e0-f6ebea850717",
   "metadata": {},
   "source": [
    "2. DIVISIBLE BY 3 PROBLEM"
   ]
  },
  {
   "cell_type": "code",
   "execution_count": 3,
   "id": "bb91b1fc-1281-4d32-8b8e-16041e21d219",
   "metadata": {},
   "outputs": [
    {
     "name": "stdout",
     "output_type": "stream",
     "text": [
      "10x10 array of squares:\n",
      " [[    1     4     9    16    25    36    49    64    81   100]\n",
      " [  121   144   169   196   225   256   289   324   361   400]\n",
      " [  441   484   529   576   625   676   729   784   841   900]\n",
      " [  961  1024  1089  1156  1225  1296  1369  1444  1521  1600]\n",
      " [ 1681  1764  1849  1936  2025  2116  2209  2304  2401  2500]\n",
      " [ 2601  2704  2809  2916  3025  3136  3249  3364  3481  3600]\n",
      " [ 3721  3844  3969  4096  4225  4356  4489  4624  4761  4900]\n",
      " [ 5041  5184  5329  5476  5625  5776  5929  6084  6241  6400]\n",
      " [ 6561  6724  6889  7056  7225  7396  7569  7744  7921  8100]\n",
      " [ 8281  8464  8649  8836  9025  9216  9409  9604  9801 10000]]\n",
      "\n",
      "Squares divisible by 3:\n",
      " [   9   36   81  144  225  324  441  576  729  900 1089 1296 1521 1764\n",
      " 2025 2304 2601 2916 3249 3600 3969 4356 4761 5184 5625 6084 6561 7056\n",
      " 7569 8100 8649 9216 9801]\n"
     ]
    }
   ],
   "source": [
    "import numpy as np\n",
    "\n",
    "sqrt = np.arange (1, 101) ** 2\n",
    "arr = sqrt.reshape (10,10)\n",
    "print(\"10x10 array of squares:\\n\", arr)\n",
    "\n",
    "div_by_3 = arr[arr % 3 == 0]\n",
    "print(\"\\nSquares divisible by 3:\\n\", div_by_3)\n",
    "\n",
    "np.save(\"div_by_3.npy\", div_by_3)"
   ]
  }
 ],
 "metadata": {
  "kernelspec": {
   "display_name": "Python [conda env:base] *",
   "language": "python",
   "name": "conda-base-py"
  },
  "language_info": {
   "codemirror_mode": {
    "name": "ipython",
    "version": 3
   },
   "file_extension": ".py",
   "mimetype": "text/x-python",
   "name": "python",
   "nbconvert_exporter": "python",
   "pygments_lexer": "ipython3",
   "version": "3.13.5"
  }
 },
 "nbformat": 4,
 "nbformat_minor": 5
}
